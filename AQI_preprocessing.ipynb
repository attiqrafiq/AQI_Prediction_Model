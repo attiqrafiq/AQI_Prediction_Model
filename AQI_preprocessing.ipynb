{
 "cells": [
  {
   "cell_type": "code",
   "execution_count": 1,
   "id": "b3796212",
   "metadata": {},
   "outputs": [],
   "source": [
    "import pandas as pd\n",
    "import warnings\n",
    "warnings.filterwarnings(\"ignore\")"
   ]
  },
  {
   "cell_type": "markdown",
   "id": "4d85b517",
   "metadata": {},
   "source": [
    "### # --------- AQI Breakpoints (Pakistan NEQS-adapted) ---------"
   ]
  },
  {
   "cell_type": "code",
   "execution_count": 2,
   "id": "c0e79d50",
   "metadata": {},
   "outputs": [],
   "source": [
    "breakpoints = {\n",
    "    'PM2.5': [\n",
    "        (0, 35, 0, 50),\n",
    "        (36, 75, 51, 100),\n",
    "        (76, 115, 101, 150),\n",
    "        (116, 150, 151, 200),\n",
    "        (151, 250, 201, 300),\n",
    "        (251, 350, 301, 400),\n",
    "        (351, 500, 401, 500),\n",
    "    ],\n",
    "    'PM10': [\n",
    "        (0, 50, 0, 50),\n",
    "        (51, 100, 51, 100),\n",
    "        (101, 250, 101, 200),\n",
    "        (251, 350, 201, 300),\n",
    "        (351, 430, 301, 400),\n",
    "        (431, 500, 401, 500),\n",
    "    ],\n",
    "    'O3': [\n",
    "        (0, 50, 0, 50),\n",
    "        (51, 100, 51, 100),\n",
    "        (101, 168, 101, 200),\n",
    "        (169, 208, 201, 300),\n",
    "        (209, 748, 301, 400),\n",
    "    ],\n",
    "    'NO2': [\n",
    "        (0, 40, 0, 50),\n",
    "        (41, 80, 51, 100),\n",
    "        (81, 180, 101, 200),\n",
    "        (181, 280, 201, 300),\n",
    "        (281, 400, 301, 400),\n",
    "        (401, 1000, 401, 500),\n",
    "    ],\n",
    "    'SO2': [\n",
    "        (0, 40, 0, 50),\n",
    "        (41, 80, 51, 100),\n",
    "        (81, 380, 101, 200),\n",
    "        (381, 800, 201, 300),\n",
    "        (801, 1600, 301, 400),\n",
    "        (1601, 2000, 401, 500),\n",
    "    ],\n",
    "}"
   ]
  },
  {
   "cell_type": "markdown",
   "id": "7293e606",
   "metadata": {},
   "source": [
    "### \n",
    "# --------- AQI Calculation Function ---------"
   ]
  },
  {
   "cell_type": "code",
   "execution_count": 3,
   "id": "04326808",
   "metadata": {},
   "outputs": [],
   "source": [
    "def calculate_aqi(concentration, bp):\n",
    "    for c_low, c_high, i_low, i_high in bp:\n",
    "        if c_low <= concentration <= c_high:\n",
    "            return round(((i_high - i_low) / (c_high - c_low)) * (concentration - c_low) + i_low)\n",
    "    return None"
   ]
  },
  {
   "cell_type": "markdown",
   "id": "4f187671",
   "metadata": {},
   "source": [
    "### # --------- Main Function with Missing Value Handling ---------"
   ]
  },
  {
   "cell_type": "code",
   "execution_count": 4,
   "id": "1398de79",
   "metadata": {},
   "outputs": [],
   "source": [
    "def process_aqi(input_csv_path, output_csv_path):\n",
    "    df = pd.read_csv(input_csv_path)\n",
    "\n",
    "    # Ensure column names are consistent\n",
    "    required_cols = ['PM2.5', 'PM10', 'O3', 'NO2', 'SO2']\n",
    "    for col in required_cols:\n",
    "        if col not in df.columns:\n",
    "            raise ValueError(f\"Missing required column: {col}\")\n",
    "\n",
    "    # Step 1: Identify and display missing values\n",
    "    print(\"Missing values before handling:\\n\", df[required_cols].isnull().sum())\n",
    "\n",
    "    # Step 2: Handle missing values by filling with column mean\n",
    "    df[required_cols] = df[required_cols].fillna(df[required_cols].mean())\n",
    "\n",
    "    print(\"\\nMissing values after handling:\\n\", df[required_cols].isnull().sum())\n",
    "\n",
    "    # Step 3: Calculate AQI\n",
    "    aqi_values = []\n",
    "    for _, row in df.iterrows():\n",
    "        sub_indices = []\n",
    "        for pollutant in required_cols:\n",
    "            concentration = row[pollutant]\n",
    "            aqi = calculate_aqi(concentration, breakpoints[pollutant])\n",
    "            if aqi is not None:\n",
    "                sub_indices.append(aqi)\n",
    "        overall_aqi = max(sub_indices) if sub_indices else None\n",
    "        aqi_values.append(overall_aqi)\n",
    "\n",
    "    df['AQI'] = aqi_values\n",
    "\n",
    "    # Step 4: Save to CSV\n",
    "    df.to_csv(output_csv_path, index=False)\n",
    "    print(f\"\\n✅ AQI calculation complete. Output saved to: {output_csv_path}\")\n",
    "\n"
   ]
  },
  {
   "cell_type": "markdown",
   "id": "a4556535",
   "metadata": {},
   "source": [
    "# --------- Example Usage ---------"
   ]
  },
  {
   "cell_type": "code",
   "execution_count": 5,
   "id": "9592f3a6",
   "metadata": {},
   "outputs": [
    {
     "name": "stdout",
     "output_type": "stream",
     "text": [
      "Missing values before handling:\n",
      " PM2.5    0\n",
      "PM10     0\n",
      "O3       0\n",
      "NO2      0\n",
      "SO2      0\n",
      "dtype: int64\n",
      "\n",
      "Missing values after handling:\n",
      " PM2.5    0\n",
      "PM10     0\n",
      "O3       0\n",
      "NO2      0\n",
      "SO2      0\n",
      "dtype: int64\n",
      "\n",
      "✅ AQI calculation complete. Output saved to: air_quality_with_AQI.csv\n"
     ]
    }
   ],
   "source": [
    "input_file = \"final AQI 19-23.csv\"         # input CSV path having features\n",
    "output_file = \"air_quality_with_AQI.csv\"    # Output CSV path to save features and AQI values\n",
    "\n",
    "process_aqi(input_file, output_file)"
   ]
  },
  {
   "cell_type": "code",
   "execution_count": null,
   "id": "c9d829db",
   "metadata": {},
   "outputs": [],
   "source": []
  }
 ],
 "metadata": {
  "kernelspec": {
   "display_name": "Python 3",
   "language": "python",
   "name": "python3"
  },
  "language_info": {
   "codemirror_mode": {
    "name": "ipython",
    "version": 3
   },
   "file_extension": ".py",
   "mimetype": "text/x-python",
   "name": "python",
   "nbconvert_exporter": "python",
   "pygments_lexer": "ipython3",
   "version": "3.9.16"
  }
 },
 "nbformat": 4,
 "nbformat_minor": 5
}
