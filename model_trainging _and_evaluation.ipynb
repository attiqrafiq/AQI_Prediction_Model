{
 "cells": [
  {
   "cell_type": "code",
   "execution_count": null,
   "id": "f63eecce",
   "metadata": {},
   "outputs": [],
   "source": [
    "import pandas as pd\n",
    "import numpy as np\n",
    "import matplotlib.pyplot as plt\n",
    "from sklearn.model_selection import train_test_split\n",
    "from sklearn.preprocessing import MinMaxScaler\n",
    "from sklearn.ensemble import RandomForestRegressor, ExtraTreesRegressor\n",
    "from sklearn.tree import DecisionTreeRegressor\n",
    "from lightgbm import LGBMRegressor\n",
    "from xgboost import XGBRegressor\n",
    "from sklearn.svm import SVR\n",
    "from sklearn.metrics import mean_squared_error, r2_score\n",
    "from tensorflow.keras.models import Sequential\n",
    "from tensorflow.keras.layers import Dense, Conv1D, MaxPooling1D, Flatten, Dropout, AvgPool1D, BatchNormalization\n",
    "from tensorflow.keras.optimizers import Adam"
   ]
  },
  {
   "cell_type": "markdown",
   "id": "8c5bca69",
   "metadata": {},
   "source": [
    "# -----------------------------------\n",
    "# 1. Load and Preprocess the Dataset\n",
    "# -----------------------------------"
   ]
  },
  {
   "cell_type": "code",
   "execution_count": null,
   "id": "b623d190",
   "metadata": {},
   "outputs": [],
   "source": [
    "# Load the dataset from the CSV file\n",
    "df = pd.read_csv('air_quality_with_AQI.csv')\n",
    "\n",
    "# Drop the 'Date(D/M/YYYY)' column as it's not needed for modeling\n",
    "df = df.drop('Date(D/M/YYYY)', axis=1)\n",
    "\n",
    "# Separate features (X) and target variable (y)\n",
    "X = df.drop('AQI', axis=1)  # Features: PM2.5, PM10, O3, NO2, SO2\n",
    "y = df['AQI']  # Target: AQI\n",
    "\n",
    "# Normalize the features using MinMaxScaler to scale them between 0 and 1\n",
    "scaler_x = MinMaxScaler()\n",
    "X_scaled = scaler_x.fit_transform(X)\n",
    "\n",
    "# Split the data into training (80%) and testing (20%) sets\n",
    "X_train, X_test, y_train, y_test = train_test_split(X_scaled, y, test_size=0.2, random_state=42)\n",
    "# Reshape the input data for CNN (samples, time steps, features)\n",
    "# Here, we treat each feature as a single time step\n",
    "X_train_reshaped = X_train.reshape(X_train.shape[0], 1, X_train.shape[1])\n",
    "X_test_reshaped = X_test.reshape(X_test.shape[0], 1, X_test.shape[1])\n"
   ]
  },
  {
   "cell_type": "markdown",
   "id": "b511d213",
   "metadata": {},
   "source": [
    "# -----------------------------------\n",
    "# 2. Initialize Regression Models\n",
    "# -----------------------------------"
   ]
  },
  {
   "cell_type": "code",
   "execution_count": null,
   "id": "d6d5aafa",
   "metadata": {},
   "outputs": [],
   "source": [
    "# Initialize Machine Learning Models\n",
    "rf_model = RandomForestRegressor(random_state=42, n_jobs=-1, n_estimators=500, max_depth=10)\n",
    "et_model = ExtraTreesRegressor(random_state=42, n_jobs=-1, n_estimators=500, max_depth=10)\n",
    "dt_model = DecisionTreeRegressor(random_state=42, max_depth=10)\n",
    "lgbm_model = LGBMRegressor(random_state=42, n_jobs=-1, n_estimators=500, max_depth=10, learning_rate=0.1)\n",
    "xgb_model = XGBRegressor(random_state=42, n_jobs=-1, n_estimators=500, max_depth=10, learning_rate=0.1)\n",
    "svm_model = SVR(kernel='rbf', C=1.0, epsilon=0.1)\n",
    "\n",
    "# Define and compile Deep Learning Models\n",
    "def create_model(input_dim):\n",
    "    model = Sequential()\n",
    "    model.add(Dense(128, input_dim=input_dim, activation='relu'))  # Input layer\n",
    "    model.add(Dense(64, activation='relu'))\n",
    "    model.add(Dense(32, activation='relu'))\n",
    "    model.add(Dense(1, activation='linear'))  # Output layer for regression\n",
    "    model.compile(optimizer=Adam(learning_rate=0.001), loss='mean_squared_error')\n",
    "    return model\n",
    "\n",
    "# Define and compile the Convolutional Neural Network model\n",
    "def create_cnn_model(input_shape):\n",
    "    model = Sequential()\n",
    "    model.add(Conv1D(filters=64, kernel_size=1, activation='relu', input_shape=input_shape))\n",
    "    model.add(MaxPooling1D(pool_size=1))\n",
    "    model.add(Flatten())\n",
    "    model.add(Dense(64, activation='relu'))\n",
    "    model.add(Dense(1, activation='linear'))  # Output layer for regression\n",
    "    model.compile(optimizer=Adam(learning_rate=0.001), loss='mean_squared_error')\n",
    "    return model\n",
    "\n",
    "# Create three different neural network architectures\n",
    "dnn_model = create_model(X_train.shape[1])  # Deep NN\n",
    "cnn_model = create_cnn_model(X_train_reshaped.shape[1:])"
   ]
  },
  {
   "cell_type": "markdown",
   "id": "787ba93e",
   "metadata": {},
   "source": [
    "# -----------------------------------\n",
    "# 3. Train the Models and Record History (for Deep Learning)\n",
    "# -----------------------------------"
   ]
  },
  {
   "cell_type": "code",
   "execution_count": null,
   "id": "99904845",
   "metadata": {},
   "outputs": [],
   "source": [
    "# Train Machine Learning Models\n",
    "print(\"Training Machine Learning Models...RF\")\n",
    "rf_model.fit(X_train, y_train)\n",
    "print(\"Training Machine Learning Models...ET\")\n",
    "et_model.fit(X_train, y_train)\n",
    "print(\"Training Machine Learning Models...DT\")\n",
    "dt_model.fit(X_train, y_train)\n",
    "print(\"Training Machine Learning Models...LGBM\")\n",
    "lgbm_model.fit(X_train, y_train)\n",
    "print(\"Training Machine Learning Models...XGB\")\n",
    "xgb_model.fit(X_train, y_train)\n",
    "print(\"Training Machine Learning Models...SVM\")\n",
    "svm_model.fit(X_train, y_train)\n",
    "\n",
    "# Train Deep Learning Models and store the training history\n",
    "print(\"Training Deep Learning Models...DNN\")\n",
    "history1 = dnn_model.fit(X_train, y_train, epochs=200, batch_size=32, verbose=1, validation_split=0.1)\n",
    "print(\"Training Deep Learning Models...CNN\")\n",
    "history_cnn = cnn_model.fit(X_train_reshaped, y_train, epochs=200, batch_size=32, verbose=1, validation_split=0.1)"
   ]
  },
  {
   "cell_type": "markdown",
   "id": "4e6a7b9e",
   "metadata": {},
   "source": [
    "# -----------------------------------\n",
    "# 4. Make Predictions on the Test Set\n",
    "# -----------------------------------"
   ]
  },
  {
   "cell_type": "code",
   "execution_count": null,
   "id": "9d57752a",
   "metadata": {},
   "outputs": [],
   "source": [
    "\n",
    "\n",
    "# Predictions using Machine Learning Models\n",
    "print(\"Making predictions with Machine Learning Models...RF\")\n",
    "rf_test_preds = rf_model.predict(X_test)\n",
    "print(\"Making predictions with Machine Learning Models...ET\")\n",
    "et_test_preds = et_model.predict(X_test)\n",
    "print(\"Making predictions with Machine Learning Models...DT\")\n",
    "dt_test_preds = dt_model.predict(X_test)\n",
    "print(\"Making predictions with Machine Learning Models...LGBM\")\n",
    "lgbm_test_preds = lgbm_model.predict(X_test)\n",
    "print(\"Making predictions with Machine Learning Models...XGB\")\n",
    "xgb_test_preds = xgb_model.predict(X_test)\n",
    "print(\"Making predictions with Machine Learning Models...SVM\")\n",
    "svm_test_preds = svm_model.predict(X_test)\n",
    "\n",
    "# Predictions using Deep Learning Models\n",
    "print(\"Making predictions with Deep Learning Models...DNN\")\n",
    "y_test_pred_dense = dnn_model.predict(X_test)\n",
    "print(\"Making predictions with Deep Learning Models...CNN\")\n",
    "y_test_pred_cnn = cnn_model.predict(X_test_reshaped)"
   ]
  },
  {
   "cell_type": "markdown",
   "id": "48da177a",
   "metadata": {},
   "source": [
    "# -----------------------------------\n",
    "# 5. Evaluate Model Performance\n",
    "# -----------------------------------"
   ]
  },
  {
   "cell_type": "code",
   "execution_count": null,
   "id": "4e2d5f98",
   "metadata": {},
   "outputs": [],
   "source": [
    "# Function to evaluate model performance using RMSE and R2\n",
    "def evaluate_model(y_true, y_pred, model_name):\n",
    "    rmse = np.sqrt(mean_squared_error(y_true, y_pred))  # Root Mean Squared Error\n",
    "    r2 = r2_score(y_true, y_pred)  # R-squared (coefficient of determination)\n",
    "    return {\"Model\": model_name, \"RMSE\": rmse, \"R2\": r2}\n",
    "\n",
    "# Evaluate all models\n",
    "results = [\n",
    "    evaluate_model(y_test, rf_test_preds, \"Random Forest\"),\n",
    "    evaluate_model(y_test, et_test_preds, \"Extra Trees\"),\n",
    "    evaluate_model(y_test, dt_test_preds, \"Decision Tree\"),\n",
    "    evaluate_model(y_test, lgbm_test_preds, \"LightGBM\"),\n",
    "    evaluate_model(y_test, xgb_test_preds, \"XGBoost\"),\n",
    "    evaluate_model(y_test, svm_test_preds, \"Support Vector Machine\"),\n",
    "    evaluate_model(y_test, y_test_pred_dense, \"Deep Neural Network\"),\n",
    "    evaluate_model(y_test, y_test_pred_cnn, \"Convolutional Neural Network\")\n",
    "]"
   ]
  },
  {
   "cell_type": "markdown",
   "id": "d2b1efa8",
   "metadata": {},
   "source": [
    "# -----------------------------------\n",
    "# 6. Compare Models and Identify the Best\n",
    "# -----------------------------------"
   ]
  },
  {
   "cell_type": "code",
   "execution_count": null,
   "id": "27cdd599",
   "metadata": {},
   "outputs": [],
   "source": [
    "\n",
    "# Create a Pandas DataFrame for comparison\n",
    "comparison_df = pd.DataFrame(results)\n",
    "\n",
    "# Identify the best model based on R2 (higher is better) and RMSE (lower is better)\n",
    "best_model_r2 = comparison_df.sort_values(by=[\"R2\", \"RMSE\"], ascending=[False, True]).iloc[0]\n",
    "\n",
    "# Display the comparison table\n",
    "print(\"Model Comparison (RMSE and R2):\\n\")\n",
    "print(comparison_df.to_markdown(index=False, numalign=\"left\", stralign=\"left\"))\n",
    "\n",
    "# Highlight the best model\n",
    "print(f\"\\nBest Model: {best_model_r2['Model']} with RMSE = {best_model_r2['RMSE']:.4f} and R2 = {best_model_r2['R2']:.4f}\")"
   ]
  },
  {
   "cell_type": "markdown",
   "id": "ee55e44f",
   "metadata": {},
   "source": [
    "# -----------------------------------\n",
    "# 7. Save the Results to a CSV File\n",
    "# -----------------------------------"
   ]
  },
  {
   "cell_type": "code",
   "execution_count": null,
   "id": "86c87f7f",
   "metadata": {},
   "outputs": [],
   "source": [
    "# Save the comparison DataFrame to a CSV file\n",
    "comparison_df.to_csv(\"model_comparison_results.csv\", index=False)\n",
    "print(\"\\nResults saved to 'model_comparison_results.csv'\")"
   ]
  },
  {
   "cell_type": "markdown",
   "id": "69cbe563",
   "metadata": {},
   "source": [
    "# -----------------------------------\n",
    "# 8. Plot Training History for Deep Learning Models\n",
    "# -----------------------------------"
   ]
  },
  {
   "cell_type": "code",
   "execution_count": null,
   "id": "3c156e90",
   "metadata": {},
   "outputs": [],
   "source": [
    "\n",
    "def plot_history(history, model_name):\n",
    "    plt.figure(figsize=(10, 5))\n",
    "    plt.plot(history.history['loss'], label='Train Loss')\n",
    "    if 'val_loss' in history.history:\n",
    "        plt.plot(history.history['val_loss'], label='Validation Loss')\n",
    "    plt.title(f'{model_name} Training History')\n",
    "    plt.xlabel('Epoch')\n",
    "    plt.ylabel('Mean Squared Error (Loss)')\n",
    "    plt.legend()\n",
    "    plt.grid(True)\n",
    "    plt.savefig(f'{model_name}_training_history.png')  # Save the plot\n",
    "    plt.show()\n",
    "\n",
    "# Plot training history for the deep learning models\n",
    "plot_history(history1, \"Deep Neural Network\")\n",
    "plot_history(history_cnn, \"Convolutional Neural Network\")\n",
    "\n",
    "print(\"\\nTraining history plots for deep learning models have been saved as PNG files.\")"
   ]
  }
 ],
 "metadata": {
  "kernelspec": {
   "display_name": "Python 3",
   "language": "python",
   "name": "python3"
  },
  "language_info": {
   "codemirror_mode": {
    "name": "ipython",
    "version": 3
   },
   "file_extension": ".py",
   "mimetype": "text/x-python",
   "name": "python",
   "nbconvert_exporter": "python",
   "pygments_lexer": "ipython3",
   "version": "3.9.16"
  }
 },
 "nbformat": 4,
 "nbformat_minor": 5
}
